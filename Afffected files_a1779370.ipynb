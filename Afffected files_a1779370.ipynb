{
 "cells": [
  {
   "cell_type": "markdown",
   "metadata": {},
   "source": [
    "\n"
   ]
  },
  {
   "cell_type": "markdown",
   "metadata": {},
   "source": [
    "# Load libraries"
   ]
  },
  {
   "cell_type": "code",
   "execution_count": 143,
   "metadata": {},
   "outputs": [],
   "source": [
    "import numpy as np\n",
    "import pandas as pd\n",
    "import os\n",
    "import re\n",
    "from datetime import datetime\n",
    "\n",
    "\n",
    "# Specify git executable file for GitPython in Jupyter Notebook (In IDE, it can still work without this line.)\n",
    "os.environ[\"GIT_PYTHON_REFRESH\"] = \"quiet\"\n",
    "\n",
    "import git\n",
    "from git import RemoteProgress\n",
    "\n",
    "from git import Repo\n",
    "import matplotlib.pyplot as plt\n",
    "import seaborn as sns\n",
    "%matplotlib inline"
   ]
  },
  {
   "cell_type": "markdown",
   "metadata": {},
   "source": [
    "# Clone repo from GitHub"
   ]
  },
  {
   "cell_type": "markdown",
   "metadata": {},
   "source": []
  },
  {
   "cell_type": "code",
   "execution_count": 144,
   "metadata": {},
   "outputs": [],
   "source": [
    "class Progress(RemoteProgress):\n",
    "    def update(self, op_code, cur_count, max_count=None, message=''):\n",
    "        print(self._cur_line)"
   ]
  },
  {
   "cell_type": "code",
   "execution_count": 156,
   "metadata": {},
   "outputs": [],
   "source": [
    "#repo = Repo(\"xstream/\")\n",
    "#fixing_commit = \"c9b121a88664988ccbabd83fa27bfc2a5e0bd139\""
   ]
  },
  {
   "cell_type": "code",
   "execution_count": 157,
   "metadata": {},
   "outputs": [],
   "source": [
    "repo = Repo(\"struts/\")\n",
    "fixing_commit = \"711cf0201cdd319a38cf29238913312355db29ba\""
   ]
  },
  {
   "cell_type": "code",
   "execution_count": 158,
   "metadata": {},
   "outputs": [],
   "source": [
    "#repo = Repo(\"activemq/\")\n",
    "#fixing_commit = \"fed39c3619825bd92990cf1aa7a4e85119e00a6e\"\n"
   ]
  },
  {
   "cell_type": "code",
   "execution_count": 159,
   "metadata": {},
   "outputs": [],
   "source": [
    "#repo = Repo(\"geode/\")\n",
    "#fixing_commit = \"740289c61d60256c6270756bc84b9e24b76e4913\"\n"
   ]
  },
  {
   "cell_type": "code",
   "execution_count": 160,
   "metadata": {},
   "outputs": [],
   "source": [
    "#repo = Repo(\"geronimo/\")\n",
    "#fixing_commit = \"f8a612df7b06729bfd6c826e1a110d4bb40dc1f5\"\n"
   ]
  },
  {
   "cell_type": "code",
   "execution_count": 161,
   "metadata": {},
   "outputs": [],
   "source": [
    "#repo = Repo(\"jetty.project/\")\n",
    "#fixing_commit = \"4df5647f6dfdc5fa7abb812afe9290d60b17c098\""
   ]
  },
  {
   "cell_type": "markdown",
   "metadata": {},
   "source": [
    "# Show info of a commit\n"
   ]
  },
  {
   "cell_type": "code",
   "execution_count": 165,
   "metadata": {},
   "outputs": [
    {
     "name": "stdout",
     "output_type": "stream",
     "text": [
      "commit 711cf0201cdd319a38cf29238913312355db29ba\n",
      "Author: Lukasz Lenart <lukaszlenart@apache.org>\n",
      "Date:   Thu Jun 6 05:29:48 2013 +0000\n",
      "\n",
      "    Merged from STRUTS_2_3_14_2_X\n",
      "    WW-4090 Itroduces actions names' whitelisting [from revision 1488895]\n",
      "    WW-4090 Removes double evaluation of parsed expression [from revision 1488897]\n",
      "    WW-4090 Add some logging [from revision 1488899]\n",
      "    WW-4090 Uses warn level instead of debug [from revision 1488900]\n",
      "    \n",
      "    git-svn-id: https://svn.apache.org/repos/asf/struts/struts2/trunk@1490149 13f79535-47bb-0310-9956-ffa450edef68\n"
     ]
    }
   ],
   "source": [
    "showdata = repo.git.show(\"-s\", fixing_commit).splitlines()\n",
    "for line in showdata:\n",
    "    print(line)"
   ]
  },
  {
   "cell_type": "markdown",
   "metadata": {},
   "source": [
    "# Affected Files"
   ]
  },
  {
   "cell_type": "code",
   "execution_count": 166,
   "metadata": {
    "scrolled": true
   },
   "outputs": [
    {
     "name": "stdout",
     "output_type": "stream",
     "text": [
      "Total files affected\n",
      "commit 711cf0201cdd319a38cf29238913312355db29ba\n",
      "Author: Lukasz Lenart <lukaszlenart@apache.org>\n",
      "Date:   Thu Jun 6 05:29:48 2013 +0000\n",
      "\n",
      "    Merged from STRUTS_2_3_14_2_X\n",
      "    WW-4090 Itroduces actions names' whitelisting [from revision 1488895]\n",
      "    WW-4090 Removes double evaluation of parsed expression [from revision 1488897]\n",
      "    WW-4090 Add some logging [from revision 1488899]\n",
      "    WW-4090 Uses warn level instead of debug [from revision 1488900]\n",
      "    \n",
      "    git-svn-id: https://svn.apache.org/repos/asf/struts/struts2/trunk@1490149 13f79535-47bb-0310-9956-ffa450edef68\n",
      "\n",
      " .../java/org/apache/struts2/StrutsConstants.java   |  3 ++\n",
      " .../dispatcher/mapper/DefaultActionMapper.java     | 44 ++++++++++++++++++----\n",
      " .../dispatcher/mapper/DefaultActionMapperTest.java | 19 ++++++++++\n",
      " .../opensymphony/xwork2/util/OgnlTextParser.java   |  5 +--\n",
      " .../xwork2/util/TextParseUtilTest.java             | 23 ++++++++++-\n",
      " 5 files changed, 83 insertions(+), 11 deletions(-)\n"
     ]
    }
   ],
   "source": [
    "total = repo.git.show(\"--stat\",fixing_commit).splitlines()\n",
    "print(\"Total files affected\")\n",
    "affected_files = total[6:]\n",
    "for line in total:\n",
    "    print(line)"
   ]
  },
  {
   "cell_type": "code",
   "execution_count": 181,
   "metadata": {},
   "outputs": [],
   "source": [
    "#Total Directories"
   ]
  },
  {
   "cell_type": "code",
   "execution_count": 182,
   "metadata": {},
   "outputs": [
    {
     "name": "stdout",
     "output_type": "stream",
     "text": [
      "Total directories affected\n",
      "    git-svn-id: https://svn.apache.org/repos/asf/tomcat/tc8.0.x/trunk@1743738 13f79535-47bb-0310-9956-ffa450edef68\n",
      "\n",
      "  55.0% java/org/apache/tomcat/util/http/fileupload/\n",
      "  44.9% webapps/docs/\n"
     ]
    }
   ],
   "source": [
    "directoriesaffected =repo.git.show(\"--dirstat\",fixing_commit).splitlines()\n",
    "print (\"Total directories affected\")\n",
    "directoriesaffected = directoriesaffected[6:]\n",
    "for line in directoriesaffected:\n",
    "    print (line)"
   ]
  },
  {
   "cell_type": "markdown",
   "metadata": {},
   "source": [
    "## Total lines of codes deleted"
   ]
  },
  {
   "cell_type": "code",
   "execution_count": 183,
   "metadata": {},
   "outputs": [
    {
     "name": "stdout",
     "output_type": "stream",
     "text": [
      "total number of lines of codes deleted(including blank spaces: 6 deletions(-)\n"
     ]
    }
   ],
   "source": [
    "del_line =repo.git.show(\"--shortstat\",fixing_commit).splitlines()\n",
    "del_line.reverse()\n",
    "del_line= del_line[0].split(',')\n",
    "print(\"total number of lines of codes deleted(including blank spaces:\"+del_line[2])"
   ]
  },
  {
   "cell_type": "markdown",
   "metadata": {},
   "source": [
    "# Total lines of code added\n",
    "<b>Note:</b> Watch out for the initial commit (no parent commit)"
   ]
  },
  {
   "cell_type": "code",
   "execution_count": 184,
   "metadata": {},
   "outputs": [
    {
     "name": "stdout",
     "output_type": "stream",
     "text": [
      "total number of lines of codes added(including blank spaces: 10 insertions(+)\n"
     ]
    }
   ],
   "source": [
    "total_line_add =repo.git.show(\"--shortstat\",fixing_commit).splitlines()\n",
    "total_line_add.reverse()\n",
    "total_line_add= total_line_add[0].split(',')\n",
    "print(\"total number of lines of codes added(including blank spaces:\"+total_line_add[1])"
   ]
  },
  {
   "cell_type": "markdown",
   "metadata": {},
   "source": [
    "# Total lines of code added (Excluding Blank spaces)"
   ]
  },
  {
   "cell_type": "markdown",
   "metadata": {},
   "source": []
  },
  {
   "cell_type": "code",
   "execution_count": 185,
   "metadata": {},
   "outputs": [
    {
     "name": "stdout",
     "output_type": "stream",
     "text": [
      "total lines added(excluding comments and blank line)=8\n"
     ]
    }
   ],
   "source": [
    "show_add_line = repo.git.show(\"-U0\",\"--pretty=\"\"\",fixing_commit).splitlines()\n",
    "total_add = 0\n",
    "for line in show_add_line:\n",
    "    if re.search(\"^\\+\",line):\n",
    "        l=line.split(\" \")\n",
    "        if(len(l)>1):\n",
    "            if(len(l[0]) == 1):\n",
    "                if (l[1][:1] != '*' or l[1][:1] !='/'):\n",
    "                    total_add +=1\n",
    "print(\"total lines added(excluding comments and blank line)=\"+str(total_add))"
   ]
  },
  {
   "cell_type": "markdown",
   "metadata": {},
   "source": [
    "# Total lines of code deleted(excluding blank spaces)"
   ]
  },
  {
   "cell_type": "markdown",
   "metadata": {},
   "source": []
  },
  {
   "cell_type": "code",
   "execution_count": 186,
   "metadata": {},
   "outputs": [
    {
     "name": "stdout",
     "output_type": "stream",
     "text": [
      "total lines deleted(excluding comments and blank line)=4\n"
     ]
    }
   ],
   "source": [
    "show_del_line = repo.git.show(\"-U0\",\"--pretty=\"\"\",fixing_commit).splitlines()\n",
    "total_del = 0\n",
    "for line in show_del_line:\n",
    "    if re.search(\"^\\-\",line):\n",
    "        l=line.split(\" \")\n",
    "        if(len(l)>1):\n",
    "            if(len(l[0]) == 1):\n",
    "                if (l[1][:1] != '*' or l[1][:1] !='/'):\n",
    "                    total_del +=1\n",
    "print(\"total lines deleted(excluding comments and blank line)=\"+str(total_del))"
   ]
  },
  {
   "cell_type": "code",
   "execution_count": 187,
   "metadata": {},
   "outputs": [
    {
     "ename": "IndexError",
     "evalue": "list index out of range",
     "output_type": "error",
     "traceback": [
      "\u001b[0;31m---------------------------------------------------------------------------\u001b[0m",
      "\u001b[0;31mIndexError\u001b[0m                                Traceback (most recent call last)",
      "\u001b[0;32m<ipython-input-187-0bd279f8d3d2>\u001b[0m in \u001b[0;36m<module>\u001b[0;34m()\u001b[0m\n\u001b[1;32m      1\u001b[0m \u001b[0mday_diff\u001b[0m \u001b[0;34m=\u001b[0m \u001b[0mrepo\u001b[0m\u001b[0;34m.\u001b[0m\u001b[0mgit\u001b[0m\u001b[0;34m.\u001b[0m\u001b[0mlog\u001b[0m\u001b[0;34m(\u001b[0m\u001b[0;34m\"-2\"\u001b[0m\u001b[0;34m,\u001b[0m\u001b[0;34m\"--format=%cd\"\u001b[0m\u001b[0;34m,\u001b[0m\u001b[0mfixing_commit\u001b[0m\u001b[0;34m,\u001b[0m\u001b[0;34m\"--\"\u001b[0m\u001b[0;34m,\u001b[0m\u001b[0maffected_file\u001b[0m\u001b[0;34m)\u001b[0m\u001b[0;34m.\u001b[0m\u001b[0msplitlines\u001b[0m\u001b[0;34m(\u001b[0m\u001b[0;34m)\u001b[0m\u001b[0;34m\u001b[0m\u001b[0;34m\u001b[0m\u001b[0m\n\u001b[0;32m----> 2\u001b[0;31m \u001b[0md1\u001b[0m \u001b[0;34m=\u001b[0m \u001b[0mdatetime\u001b[0m\u001b[0;34m.\u001b[0m\u001b[0mstrptime\u001b[0m\u001b[0;34m(\u001b[0m\u001b[0mday_diff\u001b[0m\u001b[0;34m[\u001b[0m\u001b[0;36m0\u001b[0m\u001b[0;34m]\u001b[0m\u001b[0;34m,\u001b[0m\u001b[0;34m\"%a %b %d %X %Y %z\"\u001b[0m\u001b[0;34m)\u001b[0m\u001b[0;34m\u001b[0m\u001b[0;34m\u001b[0m\u001b[0m\n\u001b[0m\u001b[1;32m      3\u001b[0m \u001b[0md2\u001b[0m \u001b[0;34m=\u001b[0m \u001b[0mdatetime\u001b[0m\u001b[0;34m.\u001b[0m\u001b[0mstrptime\u001b[0m\u001b[0;34m(\u001b[0m\u001b[0mday_diff\u001b[0m\u001b[0;34m[\u001b[0m\u001b[0;36m1\u001b[0m\u001b[0;34m]\u001b[0m\u001b[0;34m,\u001b[0m\u001b[0;34m\"%a %b %d %X %Y %z\"\u001b[0m\u001b[0;34m)\u001b[0m\u001b[0;34m\u001b[0m\u001b[0;34m\u001b[0m\u001b[0m\n\u001b[1;32m      4\u001b[0m \u001b[0mdaydifference\u001b[0m\u001b[0;34m=\u001b[0m\u001b[0;34m(\u001b[0m\u001b[0mabs\u001b[0m\u001b[0;34m(\u001b[0m\u001b[0md1\u001b[0m\u001b[0;34m-\u001b[0m\u001b[0md2\u001b[0m\u001b[0;34m)\u001b[0m\u001b[0;34m.\u001b[0m\u001b[0mdays\u001b[0m\u001b[0;34m)\u001b[0m\u001b[0;34m\u001b[0m\u001b[0;34m\u001b[0m\u001b[0m\n\u001b[1;32m      5\u001b[0m \u001b[0;32mprint\u001b[0m\u001b[0;34m(\u001b[0m\u001b[0;34m\" Days between the current fixing commit and the previous commit of each affected file:\"\u001b[0m\u001b[0;34m+\u001b[0m\u001b[0mstr\u001b[0m\u001b[0;34m(\u001b[0m\u001b[0mdaydifference\u001b[0m\u001b[0;34m)\u001b[0m\u001b[0;34m)\u001b[0m\u001b[0;34m\u001b[0m\u001b[0;34m\u001b[0m\u001b[0m\n",
      "\u001b[0;31mIndexError\u001b[0m: list index out of range"
     ]
    }
   ],
   "source": [
    "day_diff = repo.git.log(\"-2\",\"--format=%cd\",fixing_commit,\"--\",affected_file).splitlines()\n",
    "d1 = datetime.strptime(day_diff[0],\"%a %b %d %X %Y %z\")\n",
    "d2 = datetime.strptime(day_diff[1],\"%a %b %d %X %Y %z\")\n",
    "daydifference=(abs(d1-d2).days)\n",
    "print(\" Days between the current fixing commit and the previous commit of each affected file:\"+str(daydifference))"
   ]
  },
  {
   "cell_type": "code",
   "execution_count": 188,
   "metadata": {},
   "outputs": [],
   "source": [
    "#Which developer have modifies each file since its creation"
   ]
  },
  {
   "cell_type": "code",
   "execution_count": 189,
   "metadata": {},
   "outputs": [
    {
     "name": "stdout",
     "output_type": "stream",
     "text": [
      "set([])\n"
     ]
    }
   ],
   "source": [
    "show_name = repo.git.log(\"--follow\",\"--format=%an\",fixing_commit,\"--\",affected_file1).splitlines()\n",
    "deve = set(show_name)\n",
    "print(deve)"
   ]
  },
  {
   "cell_type": "code",
   "execution_count": 190,
   "metadata": {},
   "outputs": [
    {
     "name": "stdout",
     "output_type": "stream",
     "text": [
      "0\n"
     ]
    }
   ],
   "source": [
    "show_times = repo.git.log(\"--follow\",\"--format=%cd\",fixing_commit,\"--\",affected_file).splitlines()\n",
    "print(len(show_times))"
   ]
  },
  {
   "cell_type": "code",
   "execution_count": 191,
   "metadata": {},
   "outputs": [],
   "source": [
    "deve_commits = repo.git.shortlog(\"-ns\",\"--all\",\"--no-merges\",fixing_commit,\"--\",affected_file1).splitlines()\n",
    "for line in deve_commits:\n",
    "    print(line)"
   ]
  },
  {
   "cell_type": "code",
   "execution_count": null,
   "metadata": {},
   "outputs": [],
   "source": []
  },
  {
   "cell_type": "code",
   "execution_count": null,
   "metadata": {},
   "outputs": [],
   "source": []
  },
  {
   "cell_type": "code",
   "execution_count": null,
   "metadata": {},
   "outputs": [],
   "source": []
  }
 ],
 "metadata": {
  "kernelspec": {
   "display_name": "Python 2",
   "language": "python",
   "name": "python2"
  },
  "language_info": {
   "codemirror_mode": {
    "name": "ipython",
    "version": 2
   },
   "file_extension": ".py",
   "mimetype": "text/x-python",
   "name": "python",
   "nbconvert_exporter": "python",
   "pygments_lexer": "ipython2",
   "version": "2.7.15+"
  }
 },
 "nbformat": 4,
 "nbformat_minor": 2
}
