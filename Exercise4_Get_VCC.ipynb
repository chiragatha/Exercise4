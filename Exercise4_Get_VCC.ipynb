{
 "cells": [
  {
   "cell_type": "markdown",
   "metadata": {},
   "source": [
    "# Excerise 4"
   ]
  },
  {
   "cell_type": "code",
   "execution_count": 1,
   "metadata": {},
   "outputs": [],
   "source": [
    "import numpy as np\n",
    "import pandas as pd\n",
    "import os\n",
    "import ast\n",
    "import git\n",
    "from git import RemoteProgress\n",
    "from git import Repo\n",
    "from datetime import datetime, date\n",
    "import matplotlib.pyplot as plt\n",
    "import seaborn as sns\n",
    "from time import strptime\n",
    "%matplotlib inline"
   ]
  },
  {
   "cell_type": "code",
   "execution_count": 2,
   "metadata": {},
   "outputs": [],
   "source": [
    "class Progress(RemoteProgress):\n",
    "    def update(self, op_code, cur_count, max_count=None, message=''):\n",
    "        print(self._cur_line)"
   ]
  },
  {
   "cell_type": "markdown",
   "metadata": {},
   "source": [
    "# Git Repo"
   ]
  },
  {
   "cell_type": "code",
   "execution_count": 3,
   "metadata": {},
   "outputs": [],
   "source": [
    "#1\n",
    "remote_link = \"https://github.com/x-stream/xstream\"\n",
    "local_link = \"/home/chirag/Downloads/x-stream\"\n",
    "repo = Repo(local_link)\n",
    "fixing_commit = \"c9b121a88664988ccbabd83fa27bfc2a5e0bd139\"\n",
    "#vcc_commit=d8b8d4e8496cc8fc5b13833558bec61bdbda6ad1\n",
    "affected_files =[\"xstream/src/java/com/thoughtworks/xstream/io/xml/SjsxpDriver.java\"]\n",
    "#affected_files =[\"xstream/src/java/com/thoughtworks/xstream/io/xml/StandardStaxDriver.java\"]\n",
    "#affected_files =[\"xstream/src/java/com/thoughtworks/xstream/io/xml/StaxDriver.java\"]\n",
    "#affected_files =[\"xstream/src/java/com/thoughtworks/xstream/io/xml/StaxDriver.java\"]\n",
    "\n",
    "#2\n",
    "#remote_link = \"https://github.com/apache/struts\"\n",
    "#local_link = \"/home/chirag/Downloads/struts\"\n",
    "#repo = Repo(local_link)\n",
    "#fixing_commit = \"711cf0201cdd319a38cf29238913312355db29ba\"\n",
    "#vcc_commit=d8b8d4e8496cc8fc5b13833558bec61bdbda6ad1\n",
    "#affected_files =[\"core/src/main/java/org/apache/struts2/StrutsConstants.java\"]\n",
    "#affected_files =[\"core/src/main/java/org/apache/struts2/dispatcher/mapper/DefaultActionMapper.java\"]\n",
    "#affected_files =[\"core/src/test/java/org/apache/struts2/dispatcher/mapper/DefaultActionMapperTest.java\"]\n",
    "#affected_files =[\"xwork-core/src/main/java/com/opensymphony/xwork2/util/OgnlTextParser.java\"]\n",
    "#affected_files =[\"xwork-core/src/test/java/com/opensymphony/xwork2/util/TextParseUtilTest.java\"]\n",
    "\n",
    "#3\n",
    "#remote_link = \"https://github.com/apache/activemq\"\n",
    "#local_link = \"/home/chirag/Downloads/activemq\"\n",
    "#repo = Repo(local_link)\n",
    "#fixing_commit = \"90b66ce627577642b6031486769b3bd4a878d348\"\n",
    "#vcc_commit=d8b8d4e8496cc8fc5b13833558bec61bdbda6ad1\n",
    "#affected_files =[\"activemq-web-console/src/main/webapp/WEB-INF/tags/form/short.tag\"]\n",
    "#affected_files =[\"activemq-web-console/src/main/webapp/WEB-INF/tags/form/text.tag\"]\n",
    "#affected_files =[\"activemq-web-console/src/main/webapp/browse.jsp\"]\n",
    "#affected_files =[\"activemq-web-console/src/main/webapp/message.jsp\"]\n",
    "#affected_files =[\"activemq-web-console/src/main/webapp/queueConsumers.jsp\"]\n",
    "#affected_files =[\"activemq-web-console/src/main/webapp/queues.jsp\"]\n",
    "#affected_files =[\"activemq-web-console/src/main/webapp/send.jsp\"]\n",
    "#affected_files =[\"activemq-web-console/src/main/webapp/topics.jsp\"]\n",
    "#affected_files =[\"activemq-web/src/main/java/org/apache/activemq/web/BrokerFacadeSupport.java\"]\n",
    "\n",
    "#4\n",
    "#remote_link = \"https://github.com/apache/geode\"\n",
    "#local_link = \"/home/chirag/Downloads/geode\"\n",
    "#repo = Repo(local_link)\n",
    "#fixing_commit = \"740289c61d60256c6270756bc84b9e24b76e4913\"\n",
    "#vcc_commit = \"'ef7c2d973399af609fd3d70176ba79ec9b5fd0fb'\"\n",
    "#affected_files = [\"geode-lucene/src/main/java/org/apache/geode/cache/lucene/internal/cli/functions/LuceneCreateIndexFunction.java\"]\n",
    "#affected_files = [\"geode-lucene/src/main/java/org/apache/geode/cache/lucene/internal/cli/functions/LuceneDescribeIndexFunction.java\"]\n",
    "#affected_files = [\"geode-lucene/src/main/java/org/apache/geode/cache/lucene/internal/cli/functions/LuceneDestroyIndexFunction.java\"]\n",
    "#affected_files = [\"geode-lucene/src/main/java/org/apache/geode/cache/lucene/internal/cli/functions/LuceneListIndexFunction.java\"]\n",
    "#affected_files = [\"geode-lucene/src/main/java/org/apache/geode/cache/lucene/internal/cli/functions/LuceneSearchIndexFunction.java\"]\n",
    "#affected_files = [\"geode-lucene/src/main/java/org/apache/geode/cache/lucene/internal/directory/DumpDirectoryFiles.java\"]\n",
    "#affected_files = [\"geode-lucene/src/main/java/org/apache/geode/cache/lucene/internal/distributed/LuceneQueryFunction.java\"]\n",
    "#affected_files = [\"geode-lucene/src/main/java/org/apache/geode/cache/lucene/internal/distributed/WaitUntilFlushedFunction.java\"]\n",
    "#affected_files = [\"geode-lucene/src/main/java/org/apache/geode/cache/lucene/internal/results/LuceneGetPageFunction.java\"]\n",
    "#affected_files = [\"geode-lucene/src/test/java/org/apache/geode/cache/lucene/test/LuceneFunctionSecurityTest.java\"]\n",
    "\n",
    "#5\n",
    "#remote_link = \"https://github.com/apache/geronimo\"\n",
    "#local_link = \"/home/chirag/Downloads/geronimo\"\n",
    "#repo = Repo(local_link)\n",
    "#fixing_commit = \"f8a612df7b06729bfd6c826e1a110d4bb40dc1f5\"\n",
    "#vcc_commit=d8b8d4e8496cc8fc5b13833558bec61bdbda6ad1\n",
    "#affected_files =[\"framework/modules/geronimo-kernel/src/main/java/org/apache/geronimo/kernel/repository/AbstractRepository.java\"]\n",
    "#affected_files =[\"framework/modules/geronimo-kernel/src/main/java/org/apache/geronimo/kernel/util/InputUtils.java\"]\n",
    "#affected_files =[\"framework/modules/geronimo-security/src/main/java/org/apache/geronimo/security/keystore/FileKeystoreManager.java\"]\n",
    "#27 more files are affected\n",
    "\n",
    "#6\n",
    "#remote_link = \"https://github.com/eclipse/jetty.project\"\n",
    "#local_link = \"/home/chirag/Downloads/jetty.project\"\n",
    "#repo = Repo(local_link)\n",
    "#fixing_commit = \"4df5647f6dfdc5fa7abb812afe9290d60b17c098\"\n",
    "#vcc_commit = \"1c319703b9bc2cc912a05ae9e305b09e12d75711\"\n",
    "#affected_files = [\"jetty-http/src/main/java/org/eclipse/jetty/http/HttpParser.java\"]\n",
    "#affected_files = [\"jetty-util/src/main/java/org/eclipse/jetty/util/BufferUtil.java\"]\n"
   ]
  },
  {
   "cell_type": "markdown",
   "metadata": {},
   "source": [
    "# Function findStartEnd"
   ]
  },
  {
   "cell_type": "code",
   "execution_count": 4,
   "metadata": {},
   "outputs": [],
   "source": [
    "def StartEnd(file, line_affected):\n",
    "    start = -1\n",
    "    end = -1\n",
    "    current_line = 1\n",
    "    for line in file:\n",
    "        if current_line == line_affected:\n",
    "            i = current_line\n",
    "            found = False\n",
    "            while not found:\n",
    "                i = i - 1\n",
    "                if i == -1:\n",
    "                    break\n",
    "                if \"{\" in file[i - 1]:\n",
    "                    found = True\n",
    "                    start = i\n",
    "                    break;\n",
    "            found = False\n",
    "            i = current_line\n",
    "            while not found:\n",
    "                i = i + 1\n",
    "                if i >= (len(file) - 1):\n",
    "                    break\n",
    "                if \"}\" in file[i - 1]:\n",
    "                    found = True\n",
    "                    end = i\n",
    "                    break   \n",
    "        current_line = current_line + 1\n",
    "    return start, end   "
   ]
  },
  {
   "cell_type": "markdown",
   "metadata": {},
   "source": [
    "# Function makeList"
   ]
  },
  {
   "cell_type": "code",
   "execution_count": 5,
   "metadata": {},
   "outputs": [],
   "source": [
    "def makeList(input_list, value):\n",
    "    found = False\n",
    "    for item in input_list:\n",
    "        if item[\"commit\"] == value:\n",
    "            item[\"count\"] = item[\"count\"] + 1\n",
    "            found = True\n",
    "    if not found:\n",
    "        input_list.append({\"commit\": value, \"count\": 1})\n",
    "    return input_list"
   ]
  },
  {
   "cell_type": "markdown",
   "metadata": {},
   "source": [
    "# Function findAddDelete"
   ]
  },
  {
   "cell_type": "code",
   "execution_count": 6,
   "metadata": {},
   "outputs": [],
   "source": [
    "def AddDelete(line):\n",
    "    if line[0] == \"@@\":\n",
    "        delete = line[1]\n",
    "        delete = delete[1:]\n",
    "        delete = delete.split(\",\")\n",
    "        if len(delete) < 2:\n",
    "            delete.append(\"1\")\n",
    "        \n",
    "        add = line[2]\n",
    "        add = add[1:]\n",
    "        add = add.split(\",\")\n",
    "        if len(add) < 2:\n",
    "            add.append(\"1\")\n",
    "                \n",
    "        return add, delete"
   ]
  },
  {
   "cell_type": "markdown",
   "metadata": {},
   "source": [
    "# Function findCommon"
   ]
  },
  {
   "cell_type": "code",
   "execution_count": 7,
   "metadata": {},
   "outputs": [],
   "source": [
    "def Common(commits_found, exclude):\n",
    "    maximum = -1\n",
    "    commit_found = None\n",
    "    for commit in commits_found:\n",
    "        if exclude in commit[\"commit\"]:\n",
    "            continue\n",
    "        if commit[\"count\"] > maximum:\n",
    "            commit_found = commit[\"commit\"]\n",
    "            maximum = commit[\"count\"]\n",
    "            \n",
    "    return commit_found, maximum"
   ]
  },
  {
   "cell_type": "markdown",
   "metadata": {},
   "source": [
    "# Function getVCC"
   ]
  },
  {
   "cell_type": "code",
   "execution_count": 8,
   "metadata": {
    "scrolled": false
   },
   "outputs": [],
   "source": [
    "def getVCC(files, parameters):\n",
    "    for file in files:\n",
    "        diff_of_file = repo.git.diff(fixing_commit + \"^\" + \"..\" + fixing_commit, \"-U0\", \"--\", file).splitlines()\n",
    "        diff_of_file = diff_of_file[4:]\n",
    "        raw_commit_file = repo.git.show(fixing_commit + \":\" + file).splitlines()\n",
    "        commits_found = []\n",
    "        i = 0\n",
    "        while i < len(diff_of_file):\n",
    "            split_line = diff_of_file[i].split()\n",
    "            if split_line[0] == \"@@\":\n",
    "                additions, deletions = AddDelete(split_line)\n",
    "                if deletions[1] != 0:\n",
    "                    j = 0\n",
    "                    line_number = int(deletions[0])\n",
    "                    while j < int(deletions[1]):\n",
    "                        j = j + 1\n",
    "                        affected_file_diff = repo.git.blame(parameters,\"-l\", \"-L\" + str(line_number) + \",\" + str(line_number), fixing_commit, \"--\", file).splitlines()\n",
    "                        split_line = affected_file_diff[0].split()\n",
    "                        makeList(commits_found, split_line[0])\n",
    "                    i = i + j\n",
    "                if additions[1] != 0:\n",
    "                    j = 0\n",
    "                    line_number = int(additions[0])\n",
    "                    while j < int(additions[1]):\n",
    "                        j = j + 1\n",
    "                        start, end = StartEnd(raw_commit_file, j + line_number)                         \n",
    "                        if start != -1 and end != -1:\n",
    "                            affected_file_diff = repo.git.blame(parameters,\"-l\", \"-L\" + str(start) + \",\" + str(end), fixing_commit, \"--\", file).splitlines()                         \n",
    "                        else:\n",
    "                            affected_file_diff = repo.git.blame(parameters,\"-l\", \"-L\" + str(line_number) + \",\" + str(line_number), fixing_commit, \"--\", file).splitlines()             \n",
    "                        for line in affected_file_diff:\n",
    "                                split_line = line.split()\n",
    "                                makeList(commits_found, split_line[0])\n",
    "                        line_number = line_number + 1\n",
    "                    i = i + j                \n",
    "            i = i + 1\n",
    "    return Common(commits_found, fixing_commit)"
   ]
  },
  {
   "cell_type": "markdown",
   "metadata": {},
   "source": [
    "## Get VCC ID"
   ]
  },
  {
   "cell_type": "code",
   "execution_count": 9,
   "metadata": {},
   "outputs": [
    {
     "name": "stdout",
     "output_type": "stream",
     "text": [
      "('VCC Commit:', u'90b66ce627577642b6031486769b3bd4a878d348')\n"
     ]
    }
   ],
   "source": [
    "parameters = None\n",
    "VCC = getVCC(affected_files, parameters)\n",
    "print(\"VCC Commit:\", VCC[0])"
   ]
  },
  {
   "cell_type": "code",
   "execution_count": null,
   "metadata": {},
   "outputs": [],
   "source": []
  },
  {
   "cell_type": "code",
   "execution_count": null,
   "metadata": {},
   "outputs": [],
   "source": []
  },
  {
   "cell_type": "code",
   "execution_count": null,
   "metadata": {},
   "outputs": [],
   "source": []
  },
  {
   "cell_type": "code",
   "execution_count": null,
   "metadata": {},
   "outputs": [],
   "source": []
  }
 ],
 "metadata": {
  "kernelspec": {
   "display_name": "Python 2",
   "language": "python",
   "name": "python2"
  },
  "language_info": {
   "codemirror_mode": {
    "name": "ipython",
    "version": 2
   },
   "file_extension": ".py",
   "mimetype": "text/x-python",
   "name": "python",
   "nbconvert_exporter": "python",
   "pygments_lexer": "ipython2",
   "version": "2.7.15+"
  }
 },
 "nbformat": 4,
 "nbformat_minor": 2
}
